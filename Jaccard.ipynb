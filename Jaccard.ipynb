{
  "nbformat": 4,
  "nbformat_minor": 0,
  "metadata": {
    "colab": {
      "provenance": []
    },
    "kernelspec": {
      "name": "python3",
      "display_name": "Python 3"
    },
    "language_info": {
      "name": "python"
    }
  },
  "cells": [
    {
      "cell_type": "code",
      "execution_count": null,
      "metadata": {
        "id": "z9-SwTCA6AEt"
      },
      "outputs": [],
      "source": [
        "import csv\n"
      ]
    },
    {
      "cell_type": "code",
      "source": [
        "import pandas as pd\n",
        "import numpy as np\n",
        "content = pd.read_csv('times.csv')\n",
        "reader = content.to_numpy().tolist()\n",
        "\n",
        "print(reader)\n",
        "reader = [set(ele) for ele in reader]"
      ],
      "metadata": {
        "colab": {
          "base_uri": "https://localhost:8080/"
        },
        "id": "XwHYbJuW6Jn_",
        "outputId": "c12bd198-b902-40f7-f9a3-7f7d6a6a9bb8"
      },
      "execution_count": null,
      "outputs": [
        {
          "output_type": "stream",
          "name": "stdout",
          "text": [
            "[['Do we need a health check-up before signing for a gym membership?', 'As more incidences of heart attacks in gyms and from visibly fit people are coming forward, many have started questioning the way we are working out. Can you just sign up for a gym membership and start doing heavy exercises? Or is it necessary to have a health check up before undertaking a gym activity?', 'Dec 10, 2022', 'https://timesofindia.indiatimes.com/life-style/health-fitness/health-news/do-we-need-a-health-check-up-before-signing-for-a-gym-membership/photostory/96125459.cms'], ['Should you fast before having a blood test?', 'We undergo several blood tests in a year. Since the blood reports are the most accurate way to determine the biological well being of a person, we should know a thing or two about the do’s and don’ts of blood tests.', 'Dec 9, 2022', 'https://timesofindia.indiatimes.com/life-style/health-fitness/health-news/should-you-fast-before-having-a-blood-test/photostory/96105770.cms'], ['As Japanese encephalitis cases reported in country, key symptoms to know', 'Japanese encephalitis is an infection caused by Japanese encephalitis virus, related to dengue, yellow fever and West Nile viruses.', 'Dec 9, 2022', 'https://timesofindia.indiatimes.com/life-style/health-fitness/health-news/as-japanese-encephalitis-cases-reported-in-country-key-symptoms-to-know/photostory/96106220.cms'], ['Coronavirus: Nearly half of COVID patients globally have symptoms even after 4 months, new study finds', 'More than 45% of the study participants had at least one lingering symptom.', 'Dec 9, 2022', 'https://timesofindia.indiatimes.com/life-style/health-fitness/health-news/coronavirus-nearly-half-of-covid-patients-globally-have-symptoms-even-after-4-months-new-study-finds/photostory/96106120.cms'], ['Non-alcoholic fatty liver disease: Waking up between 1 am and 4 am could signal liver risk', 'According to the journal of Nature and Science of Sleep, sleep disturbances are a well-known characteristic of liver scarring.', 'Dec 8, 2022', 'https://timesofindia.indiatimes.com/life-style/health-fitness/health-news/non-alcoholic-fatty-liver-disease-waking-up-between-1-am-and-4-am-could-signal-liver-risk/photostory/96082976.cms'], ['Coronavirus: Prevalence of COVID XBB, BA.2.75 has increased, says WHO in latest report; know the key symptoms', '\"The number of new weekly deaths decreased by 17% as compared to the previous week, with over 7800 new fatalities reported. As of 4 December 2022, over 641 million confirmed cases and over 6.6 million have been reported globally,\" the WHO has said.', 'Dec 8, 2022', 'https://timesofindia.indiatimes.com/life-style/health-fitness/health-news/coronavirus-prevalence-of-covid-xbb-ba-2-75-has-increased-says-who-in-latest-report-know-the-key-symptoms/photostory/96079310.cms'], ['Coronavirus: Depressive symptoms of gut seen closely associated with COVID', 'Interference of any foreign pathogen in this complex system disrupts the normal mode of activity of this population. Not just an infection, a random lifestyle can also disturb the gut microbiome.', 'Dec 7, 2022', 'https://timesofindia.indiatimes.com/life-style/health-fitness/health-news/coronavirus-depressive-symptoms-of-gut-seen-closely-associated-with-covid/photostory/96053797.cms'], ['Coronavirus: From getting a bald patch to losing hair volume; experts explain hair fall and thinning during the COVID pandemic', 'But how is Coronavirus linked to hair fall or wrecking your hair quality? Experts explain.', 'Dec 7, 2022', 'https://timesofindia.indiatimes.com/life-style/health-fitness/health-news/coronavirus-from-getting-a-bald-patch-to-losing-hair-volume-experts-explain-hair-fall-and-thinning-during-the-covid-pandemic/articleshow/96052616.cms'], ['\"Don\\'t neglect a chest pain as gastritis\": Doctor shares insight on how to prevent heart attack', 'From assuming it as a minor gastric issue to ignoring persistent chest pain, we neglect our heart a lot. One of the major organs of the body mostly gets damaged because of our own faulty lifestyle.', 'Dec 7, 2022', 'https://timesofindia.indiatimes.com/life-style/health-fitness/health-news/dont-neglect-a-chest-pain-as-gastritis-doctor-shares-insight-on-how-to-prevent-heart-attack/articleshow/96028848.cms'], ['Coronavirus: Top 5 COVID symptoms that show up in fully vaccinated people', 'Sore throat is one of the most common symptoms of respiratory infections, including COVID-19.', 'Dec 6, 2022', 'https://timesofindia.indiatimes.com/life-style/health-fitness/health-news/coronavirus-top-5-covid-symptoms-that-show-up-in-fully-vaccinated-people/photostory/96024049.cms']]\n"
          ]
        }
      ]
    },
    {
      "cell_type": "code",
      "source": [
        "def jaccard_similarity(set1, set2):\n",
        "    return len(set1.intersection(set2)) / len(set1.union(set2))"
      ],
      "metadata": {
        "id": "I2mNBQdIDZpg"
      },
      "execution_count": null,
      "outputs": []
    },
    {
      "cell_type": "code",
      "source": [
        "similarity_scores = []\n",
        "\n",
        "for i in range(len(reader)):\n",
        "    for j in range(i + 1, len(reader)):\n",
        "        set1 = reader[i]\n",
        "        set2 = reader[j]\n",
        "        similarity_score = jaccard_similarity(set1, set2)\n",
        "        similarity_scores.append(similarity_score)\n",
        "print(similarity_scores)"
      ],
      "metadata": {
        "colab": {
          "base_uri": "https://localhost:8080/"
        },
        "id": "lV6W4bM16RkS",
        "outputId": "48daa5b9-dd58-4910-b66a-b91c9b0b5482"
      },
      "execution_count": null,
      "outputs": [
        {
          "output_type": "stream",
          "name": "stdout",
          "text": [
            "[0.0, 0.0, 0.0, 0.0, 0.0, 0.0, 0.0, 0.0, 0.0, 0.14285714285714285, 0.14285714285714285, 0.0, 0.0, 0.0, 0.0, 0.0, 0.0, 0.14285714285714285, 0.0, 0.0, 0.0, 0.0, 0.0, 0.0, 0.0, 0.0, 0.0, 0.0, 0.0, 0.0, 0.14285714285714285, 0.0, 0.0, 0.0, 0.0, 0.0, 0.0, 0.0, 0.0, 0.14285714285714285, 0.14285714285714285, 0.0, 0.14285714285714285, 0.0, 0.0]\n"
          ]
        }
      ]
    },
    {
      "cell_type": "code",
      "source": [],
      "metadata": {
        "colab": {
          "base_uri": "https://localhost:8080/"
        },
        "id": "a8c5AwwR6ok3",
        "outputId": "1553dce6-fcbc-4e64-e1f5-8dd84027e2a2"
      },
      "execution_count": null,
      "outputs": [
        {
          "output_type": "execute_result",
          "data": {
            "text/plain": [
              "0.0"
            ]
          },
          "metadata": {},
          "execution_count": 15
        }
      ]
    }
  ]
}